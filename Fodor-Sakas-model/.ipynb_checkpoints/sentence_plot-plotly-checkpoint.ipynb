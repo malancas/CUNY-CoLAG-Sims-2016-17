{
 "cells": [
  {
   "cell_type": "code",
   "execution_count": 2,
   "metadata": {
    "collapsed": false
   },
   "outputs": [
    {
     "data": {
      "text/plain": [
       "\"\\nThe following will produce a line graph representing\\nthe time at which each learner's parameters converged\\n\""
      ]
     },
     "execution_count": 2,
     "metadata": {},
     "output_type": "execute_result"
    }
   ],
   "source": [
    "'''\n",
    "The following will produce a line graph representing\n",
    "the time at which each learner's parameters converged\n",
    "'''"
   ]
  },
  {
   "cell_type": "code",
   "execution_count": 3,
   "metadata": {
    "collapsed": true
   },
   "outputs": [],
   "source": [
    "import pandas as pd\n",
    "import numpy as np\n",
    "import plotly.plotly as py\n",
    "import plotly.graph_objs as go\n",
    "import seaborn as sns\n",
    "import random"
   ]
  },
  {
   "cell_type": "code",
   "execution_count": 4,
   "metadata": {
    "collapsed": true
   },
   "outputs": [],
   "source": [
    "matplotlib inline"
   ]
  },
  {
   "cell_type": "code",
   "execution_count": 5,
   "metadata": {
    "collapsed": false
   },
   "outputs": [
    {
     "data": {
      "text/html": [
       "<div>\n",
       "<table border=\"1\" class=\"dataframe\">\n",
       "  <thead>\n",
       "    <tr style=\"text-align: right;\">\n",
       "      <th></th>\n",
       "      <th>p1</th>\n",
       "      <th>p2</th>\n",
       "      <th>p3</th>\n",
       "      <th>p4</th>\n",
       "      <th>p5</th>\n",
       "      <th>p6</th>\n",
       "      <th>p7</th>\n",
       "      <th>p8</th>\n",
       "      <th>p9</th>\n",
       "      <th>p10</th>\n",
       "      <th>p11</th>\n",
       "      <th>p12</th>\n",
       "      <th>p13</th>\n",
       "    </tr>\n",
       "  </thead>\n",
       "  <tbody>\n",
       "    <tr>\n",
       "      <th>0</th>\n",
       "      <td>1</td>\n",
       "      <td>1</td>\n",
       "      <td>1</td>\n",
       "      <td>2</td>\n",
       "      <td>1</td>\n",
       "      <td>1</td>\n",
       "      <td>1</td>\n",
       "      <td>5</td>\n",
       "      <td>1</td>\n",
       "      <td>1</td>\n",
       "      <td>4</td>\n",
       "      <td>1</td>\n",
       "      <td>1</td>\n",
       "    </tr>\n",
       "    <tr>\n",
       "      <th>1</th>\n",
       "      <td>1</td>\n",
       "      <td>1</td>\n",
       "      <td>1</td>\n",
       "      <td>1</td>\n",
       "      <td>1</td>\n",
       "      <td>1</td>\n",
       "      <td>1</td>\n",
       "      <td>1</td>\n",
       "      <td>1</td>\n",
       "      <td>1</td>\n",
       "      <td>3</td>\n",
       "      <td>1</td>\n",
       "      <td>1</td>\n",
       "    </tr>\n",
       "    <tr>\n",
       "      <th>2</th>\n",
       "      <td>1</td>\n",
       "      <td>1</td>\n",
       "      <td>1</td>\n",
       "      <td>1</td>\n",
       "      <td>1</td>\n",
       "      <td>1</td>\n",
       "      <td>1</td>\n",
       "      <td>4</td>\n",
       "      <td>1</td>\n",
       "      <td>1</td>\n",
       "      <td>4</td>\n",
       "      <td>2</td>\n",
       "      <td>1</td>\n",
       "    </tr>\n",
       "    <tr>\n",
       "      <th>3</th>\n",
       "      <td>1</td>\n",
       "      <td>1</td>\n",
       "      <td>1</td>\n",
       "      <td>3</td>\n",
       "      <td>1</td>\n",
       "      <td>1</td>\n",
       "      <td>1</td>\n",
       "      <td>1</td>\n",
       "      <td>1</td>\n",
       "      <td>1</td>\n",
       "      <td>5</td>\n",
       "      <td>3</td>\n",
       "      <td>1</td>\n",
       "    </tr>\n",
       "    <tr>\n",
       "      <th>4</th>\n",
       "      <td>1</td>\n",
       "      <td>1</td>\n",
       "      <td>1</td>\n",
       "      <td>3</td>\n",
       "      <td>1</td>\n",
       "      <td>1</td>\n",
       "      <td>1</td>\n",
       "      <td>1</td>\n",
       "      <td>1</td>\n",
       "      <td>1</td>\n",
       "      <td>1</td>\n",
       "      <td>1</td>\n",
       "      <td>1</td>\n",
       "    </tr>\n",
       "  </tbody>\n",
       "</table>\n",
       "</div>"
      ],
      "text/plain": [
       "   p1  p2  p3  p4  p5  p6  p7  p8  p9  p10  p11  p12  p13\n",
       "0   1   1   1   2   1   1   1   5   1    1    4    1    1\n",
       "1   1   1   1   1   1   1   1   1   1    1    3    1    1\n",
       "2   1   1   1   1   1   1   1   4   1    1    4    2    1\n",
       "3   1   1   1   3   1   1   1   1   1    1    5    3    1\n",
       "4   1   1   1   3   1   1   1   1   1    1    1    1    1"
      ]
     },
     "execution_count": 5,
     "metadata": {},
     "output_type": "execute_result"
    }
   ],
   "source": [
    "# Import and view data from out.csv\n",
    "df = pd.read_csv('out.csv')\n",
    "df.head()"
   ]
  },
  {
   "cell_type": "code",
   "execution_count": 6,
   "metadata": {
    "collapsed": false
   },
   "outputs": [],
   "source": [
    "# Get the number of rows in the dataframe\n",
    "numLearners = df.shape[0]\n",
    "\n",
    "# Create a list of lists, each inner list represents\n",
    "# a parameter and the sentence on which it converged on\n",
    "rowList = []\n",
    "for i in range(0, numLearners):\n",
    "    # Use iloc to grab a row\n",
    "    # and convert it to a list\n",
    "    l = list(df.iloc[[i]].values.flatten())\n",
    "    dbList = []\n",
    "    for j in range(0, 13):\n",
    "        dbList.append([l[j], j+1])\n",
    "    dbList.sort(key=lambda x: x[0])\n",
    "    rowList.append(dbList)"
   ]
  },
  {
   "cell_type": "code",
   "execution_count": 1,
   "metadata": {
    "collapsed": true
   },
   "outputs": [],
   "source": [
    "# Returns one of five colors based on the current\n",
    "# numbers's last digit. This will be assigned\n",
    "# to a line in the graph representing a learner\n",
    "def get_line_color(num):\n",
    "    lastDigit = num % 10\n",
    "    if lastDigit == 0 or lastDigit == 5:\n",
    "        return (22, 96, 167)\n",
    "    elif lastDigit == 1 or lastDigit == 6:\n",
    "        return (0, 153, 51)\n",
    "    elif lastDigit == 2 or lastDigit == 7:\n",
    "        return (153, 51, 153)\n",
    "    elif lastDigit == 3 or lastDigit == 8:\n",
    "        return (255, 204, 0)\n",
    "    else: # lastDigit == 4 or lastDigit == 9\n",
    "        return (205, 12, 24)"
   ]
  },
  {
   "cell_type": "code",
   "execution_count": 8,
   "metadata": {
    "collapsed": false
   },
   "outputs": [],
   "source": [
    "# Stores every completed line that will appear\n",
    "# on the graph\n",
    "data = []\n",
    "for i in range(0, numLearners):\n",
    "    # Variables used to store the x-axis\n",
    "    # and y axis data of each learner\n",
    "    xData = []\n",
    "    yData = []\n",
    "    \n",
    "    # The appropiate data is added,\n",
    "    # xData stores the sentence number on which\n",
    "    # each parameter converged\n",
    "    # yData stores the corresponding parameter number\n",
    "    for j in range(0, 13):\n",
    "        xData.append(rowList[i][j][0])\n",
    "        yData.append(rowList[i][j][1])\n",
    "    trace = go.Scatter(\n",
    "        x = xData,\n",
    "        y = yData,\n",
    "        name = 'child{}'.format(i+1),\n",
    "        line = dict(\n",
    "            # Random color is chosen of the five possible\n",
    "            color = ('rgb{}'.format(get_line_color(i))),\n",
    "            width = 2)\n",
    "    )\n",
    "    data.append(trace)"
   ]
  },
  {
   "cell_type": "code",
   "execution_count": 9,
   "metadata": {
    "collapsed": false
   },
   "outputs": [],
   "source": [
    "# Format the graph\n",
    "# xaxis and yaxis describe\n",
    "# the layout specifications for each\n",
    "layout = go.Layout(\n",
    "    title = 'Convergence Time of Parameters',\n",
    "    xaxis=dict(\n",
    "        autotick=False,\n",
    "        ticks='outside',\n",
    "        tick0=0,\n",
    "        dtick=1.00,\n",
    "        ticklen=8,\n",
    "        tickwidth=4,\n",
    "        tickcolor='#000',\n",
    "        range=[0, 13],\n",
    "        title='Time'\n",
    "    ),\n",
    "    yaxis=dict(\n",
    "        autotick=False,\n",
    "        ticks='outside',\n",
    "        tick0=0,\n",
    "        dtick=1.0,\n",
    "        ticklen=8,\n",
    "        tickwidth=4,\n",
    "        tickcolor='#000',\n",
    "        range=[1, 13],\n",
    "        title='Parameters'\n",
    "    )\n",
    ")"
   ]
  },
  {
   "cell_type": "code",
   "execution_count": 10,
   "metadata": {
    "collapsed": false
   },
   "outputs": [
    {
     "data": {
      "text/html": [
       "<iframe id=\"igraph\" scrolling=\"no\" style=\"border:none;\" seamless=\"seamless\" src=\"https://plot.ly/~malanc/1.embed\" height=\"525px\" width=\"100%\"></iframe>"
      ],
      "text/plain": [
       "<plotly.tools.PlotlyDisplay object>"
      ]
     },
     "execution_count": 10,
     "metadata": {},
     "output_type": "execute_result"
    }
   ],
   "source": [
    "# Plot and embed the graph in the ipython notebook\n",
    "fig = dict(data=data, layout=layout)\n",
    "py.iplot(fig, filename='styled-line')"
   ]
  },
  {
   "cell_type": "code",
   "execution_count": null,
   "metadata": {
    "collapsed": true
   },
   "outputs": [],
   "source": []
  }
 ],
 "metadata": {
  "kernelspec": {
   "display_name": "Python [Root]",
   "language": "python",
   "name": "Python [Root]"
  },
  "language_info": {
   "codemirror_mode": {
    "name": "ipython",
    "version": 2
   },
   "file_extension": ".py",
   "mimetype": "text/x-python",
   "name": "python",
   "nbconvert_exporter": "python",
   "pygments_lexer": "ipython2",
   "version": "2.7.11"
  }
 },
 "nbformat": 4,
 "nbformat_minor": 0
}
