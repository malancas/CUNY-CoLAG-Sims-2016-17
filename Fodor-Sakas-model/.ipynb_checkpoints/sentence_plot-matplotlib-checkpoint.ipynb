{
 "cells": [
  {
   "cell_type": "code",
   "execution_count": 3,
   "metadata": {
    "collapsed": false
   },
   "outputs": [
    {
     "data": {
      "text/plain": [
       "\"\\nThe following will produce a line graph representing\\nthe time at which each learner's parameters converged\\n\""
      ]
     },
     "execution_count": 3,
     "metadata": {},
     "output_type": "execute_result"
    }
   ],
   "source": [
    "'''\n",
    "The following will produce a line graph representing\n",
    "the time at which each learner's parameters converged\n",
    "'''"
   ]
  },
  {
   "cell_type": "code",
   "execution_count": 4,
   "metadata": {
    "collapsed": true
   },
   "outputs": [],
   "source": [
    "# Standard import for pandas, numpy and matplot\n",
    "import pandas as pd\n",
    "import numpy as np\n",
    "import matplotlib.pyplot as plt"
   ]
  },
  {
   "cell_type": "code",
   "execution_count": 5,
   "metadata": {
    "collapsed": true
   },
   "outputs": [],
   "source": [
    "%matplotlib inline"
   ]
  },
  {
   "cell_type": "code",
   "execution_count": 6,
   "metadata": {
    "collapsed": false
   },
   "outputs": [
    {
     "data": {
      "text/html": [
       "<div>\n",
       "<table border=\"1\" class=\"dataframe\">\n",
       "  <thead>\n",
       "    <tr style=\"text-align: right;\">\n",
       "      <th></th>\n",
       "      <th>p1</th>\n",
       "      <th>p2</th>\n",
       "      <th>p3</th>\n",
       "      <th>p4</th>\n",
       "      <th>p5</th>\n",
       "      <th>p6</th>\n",
       "      <th>p7</th>\n",
       "      <th>p8</th>\n",
       "      <th>p9</th>\n",
       "      <th>p10</th>\n",
       "      <th>p11</th>\n",
       "      <th>p12</th>\n",
       "      <th>p13</th>\n",
       "    </tr>\n",
       "  </thead>\n",
       "  <tbody>\n",
       "    <tr>\n",
       "      <th>0</th>\n",
       "      <td>1</td>\n",
       "      <td>1</td>\n",
       "      <td>1</td>\n",
       "      <td>1</td>\n",
       "      <td>1</td>\n",
       "      <td>1</td>\n",
       "      <td>1</td>\n",
       "      <td>1</td>\n",
       "      <td>1</td>\n",
       "      <td>1</td>\n",
       "      <td>1</td>\n",
       "      <td>4</td>\n",
       "      <td>1</td>\n",
       "    </tr>\n",
       "    <tr>\n",
       "      <th>1</th>\n",
       "      <td>1</td>\n",
       "      <td>1</td>\n",
       "      <td>1</td>\n",
       "      <td>1</td>\n",
       "      <td>1</td>\n",
       "      <td>1</td>\n",
       "      <td>1</td>\n",
       "      <td>4</td>\n",
       "      <td>1</td>\n",
       "      <td>1</td>\n",
       "      <td>4</td>\n",
       "      <td>1</td>\n",
       "      <td>1</td>\n",
       "    </tr>\n",
       "    <tr>\n",
       "      <th>2</th>\n",
       "      <td>1</td>\n",
       "      <td>1</td>\n",
       "      <td>1</td>\n",
       "      <td>1</td>\n",
       "      <td>1</td>\n",
       "      <td>1</td>\n",
       "      <td>1</td>\n",
       "      <td>2</td>\n",
       "      <td>1</td>\n",
       "      <td>1</td>\n",
       "      <td>2</td>\n",
       "      <td>1</td>\n",
       "      <td>1</td>\n",
       "    </tr>\n",
       "    <tr>\n",
       "      <th>3</th>\n",
       "      <td>1</td>\n",
       "      <td>1</td>\n",
       "      <td>1</td>\n",
       "      <td>1</td>\n",
       "      <td>1</td>\n",
       "      <td>1</td>\n",
       "      <td>1</td>\n",
       "      <td>3</td>\n",
       "      <td>1</td>\n",
       "      <td>1</td>\n",
       "      <td>3</td>\n",
       "      <td>1</td>\n",
       "      <td>1</td>\n",
       "    </tr>\n",
       "    <tr>\n",
       "      <th>4</th>\n",
       "      <td>1</td>\n",
       "      <td>1</td>\n",
       "      <td>1</td>\n",
       "      <td>3</td>\n",
       "      <td>1</td>\n",
       "      <td>1</td>\n",
       "      <td>1</td>\n",
       "      <td>1</td>\n",
       "      <td>1</td>\n",
       "      <td>1</td>\n",
       "      <td>1</td>\n",
       "      <td>3</td>\n",
       "      <td>1</td>\n",
       "    </tr>\n",
       "  </tbody>\n",
       "</table>\n",
       "</div>"
      ],
      "text/plain": [
       "   p1  p2  p3  p4  p5  p6  p7  p8  p9  p10  p11  p12  p13\n",
       "0   1   1   1   1   1   1   1   1   1    1    1    4    1\n",
       "1   1   1   1   1   1   1   1   4   1    1    4    1    1\n",
       "2   1   1   1   1   1   1   1   2   1    1    2    1    1\n",
       "3   1   1   1   1   1   1   1   3   1    1    3    1    1\n",
       "4   1   1   1   3   1   1   1   1   1    1    1    3    1"
      ]
     },
     "execution_count": 6,
     "metadata": {},
     "output_type": "execute_result"
    }
   ],
   "source": [
    "# Import and view data from out.csv\n",
    "df = pd.read_csv('out.csv')\n",
    "df.head()"
   ]
  },
  {
   "cell_type": "code",
   "execution_count": 7,
   "metadata": {
    "collapsed": false
   },
   "outputs": [],
   "source": [
    "# Get the number of rows in the dataframe\n",
    "numLearners = df.shape[0]\n",
    "\n",
    "# Create a list of lists, each inner list represents\n",
    "# a parameter and the sentence on which it converged on\n",
    "rowList = []\n",
    "for i in range(0, numLearners):\n",
    "    # Use iloc to grab a row\n",
    "    # and convert it to a list\n",
    "    l = list(df.iloc[[i]].values.flatten())\n",
    "    dbList = []\n",
    "    for j in range(0, 13):\n",
    "        dbList.append([l[j], j+1])\n",
    "    dbList.sort(key=lambda x: x[0])\n",
    "    rowList.append(dbList)"
   ]
  },
  {
   "cell_type": "code",
   "execution_count": 14,
   "metadata": {
    "collapsed": true
   },
   "outputs": [],
   "source": [
    "# Returns one of five colors based on the current\n",
    "# numbers's last digit. This will be assigned\n",
    "# to a line in the graph representing a learner\n",
    "def get_line_color(num):\n",
    "    lastDigit = num % 10\n",
    "    if lastDigit == 0 or lastDigit == 5:\n",
    "        return \"blue\"\n",
    "    elif lastDigit == 1 or lastDigit == 6:\n",
    "        return \"green\"\n",
    "    elif lastDigit == 2 or lastDigit == 7:\n",
    "        return \"red\"\n",
    "    elif lastDigit == 3 or lastDigit == 8:\n",
    "        return \"yellow\"\n",
    "    else: # lastDigit == 4 or lastDigit == 9\n",
    "        return \"purple\""
   ]
  },
  {
   "cell_type": "code",
   "execution_count": 15,
   "metadata": {
    "collapsed": false
   },
   "outputs": [],
   "source": [
    "# Stores every completed line that will appear\n",
    "# on the graph\n",
    "data = []\n",
    "for i in range(0, numLearners):\n",
    "    # Variables used to store the x-axis\n",
    "    # and y axis data of each learner\n",
    "    xData = []\n",
    "    yData = []\n",
    "    \n",
    "    # The appropiate data is added,\n",
    "    # xData stores the sentence number on which\n",
    "    # each parameter converged\n",
    "    # yData stores the corresponding parameter number\n",
    "    for j in range(0, 13):\n",
    "        xData.append(rowList[i][j][0])\n",
    "        yData.append(rowList[i][j][1])\n",
    "    \n",
    "    # Every three elements of data will represent one line on the graph\n",
    "    data.append(xData)\n",
    "    data.append(yData)\n",
    "    data.append(get_line_color(i))"
   ]
  },
  {
   "cell_type": "code",
   "execution_count": 16,
   "metadata": {
    "collapsed": false
   },
   "outputs": [
    {
     "data": {
      "image/png": "[encoded data removed]",
      "text/plain": [
       "<matplotlib.figure.Figure at 0x7f716374c850>"
      ]
     },
     "metadata": {},
     "output_type": "display_data"
    }
   ],
   "source": [
    "# Create a figure of size 8x6 inches, 80 dots per inch\n",
    "plt.figure(figsize=(8, 6), dpi=80)\n",
    "\n",
    "# Add graph title and axis labels\n",
    "plt.title(\"Convergence Time of Parameters\")\n",
    "plt.xlabel(\"Time\")\n",
    "plt.ylabel(\"Parameters\")\n",
    "\n",
    "for i in range(0, numLearners, 3):\n",
    "    plt.plot(data[i], data[i+1], color=data[i+2], linewidth=1.0, marker='.', linestyle=\"-\")\n",
    "\n",
    "# Set x limits\n",
    "plt.xlim(0, 13)\n",
    "\n",
    "# Set x ticks\n",
    "plt.xticks(np.linspace(0, 13, 14, endpoint=True))\n",
    "\n",
    "# Set y limits\n",
    "plt.ylim(1, 13)\n",
    "\n",
    "# Set y ticks\n",
    "plt.yticks(np.linspace(1, 13, 13, endpoint=True))\n",
    "\n",
    "plt.show()"
   ]
  },
  {
   "cell_type": "code",
   "execution_count": 17,
   "metadata": {
    "collapsed": false
   },
   "outputs": [
    {
     "data": {
      "text/plain": [
       "<matplotlib.figure.Figure at 0x7f71635d9990>"
      ]
     },
     "metadata": {},
     "output_type": "display_data"
    }
   ],
   "source": [
    "figure = plt.figure()\n",
    "figure.savefig('pset.pdf')"
   ]
  },
  {
   "cell_type": "code",
   "execution_count": null,
   "metadata": {
    "collapsed": true
   },
   "outputs": [],
   "source": []
  }
 ],
 "metadata": {
  "kernelspec": {
   "display_name": "Python [Root]",
   "language": "python",
   "name": "Python [Root]"
  },
  "language_info": {
   "codemirror_mode": {
    "name": "ipython",
    "version": 2
   },
   "file_extension": ".py",
   "mimetype": "text/x-python",
   "name": "python",
   "nbconvert_exporter": "python",
   "pygments_lexer": "ipython2",
   "version": "2.7.11"
  }
 },
 "nbformat": 4,
 "nbformat_minor": 0
}
